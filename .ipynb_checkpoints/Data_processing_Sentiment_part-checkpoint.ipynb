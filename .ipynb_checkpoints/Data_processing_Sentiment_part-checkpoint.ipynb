{
 "cells": [
  {
   "cell_type": "code",
   "execution_count": 48,
   "id": "0b7eeb8d",
   "metadata": {},
   "outputs": [
    {
     "data": {
      "text/html": [
       "<div>\n",
       "<style scoped>\n",
       "    .dataframe tbody tr th:only-of-type {\n",
       "        vertical-align: middle;\n",
       "    }\n",
       "\n",
       "    .dataframe tbody tr th {\n",
       "        vertical-align: top;\n",
       "    }\n",
       "\n",
       "    .dataframe thead th {\n",
       "        text-align: right;\n",
       "    }\n",
       "</style>\n",
       "<table border=\"1\" class=\"dataframe\">\n",
       "  <thead>\n",
       "    <tr style=\"text-align: right;\">\n",
       "      <th></th>\n",
       "      <th>Id</th>\n",
       "      <th>ProductId</th>\n",
       "      <th>UserId</th>\n",
       "      <th>ProfileName</th>\n",
       "      <th>HelpfulnessNumerator</th>\n",
       "      <th>HelpfulnessDenominator</th>\n",
       "      <th>Score</th>\n",
       "      <th>Time</th>\n",
       "      <th>Summary</th>\n",
       "      <th>Text</th>\n",
       "    </tr>\n",
       "  </thead>\n",
       "  <tbody>\n",
       "    <tr>\n",
       "      <th>0</th>\n",
       "      <td>153628</td>\n",
       "      <td>B001E5E10A</td>\n",
       "      <td>ABE0OJ80DA7SZ</td>\n",
       "      <td>M. Comstock</td>\n",
       "      <td>1</td>\n",
       "      <td>1</td>\n",
       "      <td>5</td>\n",
       "      <td>1220313600</td>\n",
       "      <td>SPORTea</td>\n",
       "      <td>We have a Michigan-based coffee cafe (now rena...</td>\n",
       "    </tr>\n",
       "    <tr>\n",
       "      <th>1</th>\n",
       "      <td>153629</td>\n",
       "      <td>B001E5E10A</td>\n",
       "      <td>A2BRM56W7F6CN3</td>\n",
       "      <td>D. Edwards</td>\n",
       "      <td>1</td>\n",
       "      <td>1</td>\n",
       "      <td>5</td>\n",
       "      <td>1209340800</td>\n",
       "      <td>Love it...start making bigger boxes!</td>\n",
       "      <td>I don't drink a lot of flavored k-cups, but pe...</td>\n",
       "    </tr>\n",
       "    <tr>\n",
       "      <th>2</th>\n",
       "      <td>153630</td>\n",
       "      <td>B001E5E10A</td>\n",
       "      <td>A3FDYB1DZWFJZN</td>\n",
       "      <td>Grape Grower</td>\n",
       "      <td>1</td>\n",
       "      <td>1</td>\n",
       "      <td>5</td>\n",
       "      <td>1208476800</td>\n",
       "      <td>Great product - great price</td>\n",
       "      <td>I don't drink a lot of flavored k-cups, but pe...</td>\n",
       "    </tr>\n",
       "    <tr>\n",
       "      <th>3</th>\n",
       "      <td>153631</td>\n",
       "      <td>B001E5E10A</td>\n",
       "      <td>A2P9BRUSUIYDUA</td>\n",
       "      <td>Kaye Marschke</td>\n",
       "      <td>1</td>\n",
       "      <td>1</td>\n",
       "      <td>5</td>\n",
       "      <td>1200268800</td>\n",
       "      <td>Great tasting tea</td>\n",
       "      <td>I tried the Frooties mBerry and the effect las...</td>\n",
       "    </tr>\n",
       "    <tr>\n",
       "      <th>4</th>\n",
       "      <td>153632</td>\n",
       "      <td>B001E5E10A</td>\n",
       "      <td>A3D6VRKNBMRG3N</td>\n",
       "      <td>funky folk art</td>\n",
       "      <td>1</td>\n",
       "      <td>1</td>\n",
       "      <td>5</td>\n",
       "      <td>1187136000</td>\n",
       "      <td>sport tea</td>\n",
       "      <td>Being married to a person from England, as mos...</td>\n",
       "    </tr>\n",
       "  </tbody>\n",
       "</table>\n",
       "</div>"
      ],
      "text/plain": [
       "       Id   ProductId          UserId     ProfileName  HelpfulnessNumerator  \\\n",
       "0  153628  B001E5E10A   ABE0OJ80DA7SZ     M. Comstock                     1   \n",
       "1  153629  B001E5E10A  A2BRM56W7F6CN3      D. Edwards                     1   \n",
       "2  153630  B001E5E10A  A3FDYB1DZWFJZN    Grape Grower                     1   \n",
       "3  153631  B001E5E10A  A2P9BRUSUIYDUA   Kaye Marschke                     1   \n",
       "4  153632  B001E5E10A  A3D6VRKNBMRG3N  funky folk art                     1   \n",
       "\n",
       "   HelpfulnessDenominator  Score        Time  \\\n",
       "0                       1      5  1220313600   \n",
       "1                       1      5  1209340800   \n",
       "2                       1      5  1208476800   \n",
       "3                       1      5  1200268800   \n",
       "4                       1      5  1187136000   \n",
       "\n",
       "                                Summary  \\\n",
       "0                               SPORTea   \n",
       "1  Love it...start making bigger boxes!   \n",
       "2           Great product - great price   \n",
       "3                     Great tasting tea   \n",
       "4                             sport tea   \n",
       "\n",
       "                                                Text  \n",
       "0  We have a Michigan-based coffee cafe (now rena...  \n",
       "1  I don't drink a lot of flavored k-cups, but pe...  \n",
       "2  I don't drink a lot of flavored k-cups, but pe...  \n",
       "3  I tried the Frooties mBerry and the effect las...  \n",
       "4  Being married to a person from England, as mos...  "
      ]
     },
     "execution_count": 48,
     "metadata": {},
     "output_type": "execute_result"
    }
   ],
   "source": [
    "import pandas as pd\n",
    "\n",
    "#import Amazon dataset\n",
    "Amazon_review = pd.read_csv('Reviews.csv')\n",
    "\n",
    "#View current data set\n",
    "Amazon_review.head()"
   ]
  },
  {
   "cell_type": "code",
   "execution_count": 49,
   "id": "341160ea",
   "metadata": {},
   "outputs": [
    {
     "data": {
      "text/plain": [
       "0    We have a Michigan-based coffee cafe (now rena...\n",
       "1    I don't drink a lot of flavored k-cups, but pe...\n",
       "2    I don't drink a lot of flavored k-cups, but pe...\n",
       "3    I tried the Frooties mBerry and the effect las...\n",
       "4    Being married to a person from England, as mos...\n",
       "Name: Text, dtype: object"
      ]
     },
     "execution_count": 49,
     "metadata": {},
     "output_type": "execute_result"
    }
   ],
   "source": [
    "#We only need the review summaries and texts, drop make a new one.\n",
    "Reviews_processed = pd.DataFrame()\n",
    "Reviews_processed = Amazon_review['Text']\n",
    "\n",
    "#Free the memory of non-using dataframes.\n",
    "del[[Amazon_review]]\n",
    "\n",
    "#Drop all NaN value for integrity\n",
    "Reviews_processed = Reviews_processed.dropna(axis=0)\n",
    "Reviews_processed.head()"
   ]
  },
  {
   "cell_type": "code",
   "execution_count": 50,
   "id": "5fdc30e7",
   "metadata": {},
   "outputs": [
    {
     "name": "stderr",
     "output_type": "stream",
     "text": [
      "No model was supplied, defaulted to distilbert-base-uncased-finetuned-sst-2-english (https://huggingface.co/distilbert-base-uncased-finetuned-sst-2-english)\n"
     ]
    }
   ],
   "source": [
    "#Import pretrained NLP modules to precess text sentiment data.\n",
    "from transformers import pipeline\n",
    "\n",
    "#Make sure you have GPU\n",
    "sentiment_analysis = pipeline('sentiment-analysis', device=0)"
   ]
  },
  {
   "cell_type": "code",
   "execution_count": 4,
   "id": "ba61d7a5",
   "metadata": {},
   "outputs": [
    {
     "name": "stderr",
     "output_type": "stream",
     "text": [
      "C:\\Codes\\ANACONDA\\lib\\site-packages\\transformers\\pipelines\\base.py:908: UserWarning: You seem to be using the pipelines sequentially on GPU. In order to maximize efficiency please use a dataset\n",
      "  warnings.warn(\n"
     ]
    },
    {
     "name": "stdout",
     "output_type": "stream",
     "text": [
      "Done!\n"
     ]
    }
   ],
   "source": [
    "#Processing text data's sentiment score from our dataset.csv\n",
    "score_text = []\n",
    "\n",
    "for sent in Reviews_processed:\n",
    "    score_text.append(sentiment_analysis(sent)[i])\n",
    "    \n",
    "print(\"Done!\")"
   ]
  },
  {
   "cell_type": "code",
   "execution_count": 31,
   "id": "7daaee8d",
   "metadata": {},
   "outputs": [],
   "source": [
    "#Now list has all the label and value {Made mistake on that but I know how to deal with this.}\n",
    "#Make a new set of data and take average\n",
    "text = pd.DataFrame(score_text)\n",
    "text.to_csv('text_score.csv')"
   ]
  },
  {
   "cell_type": "code",
   "execution_count": 42,
   "id": "41335f4c",
   "metadata": {},
   "outputs": [
    {
     "data": {
      "text/html": [
       "<div>\n",
       "<style scoped>\n",
       "    .dataframe tbody tr th:only-of-type {\n",
       "        vertical-align: middle;\n",
       "    }\n",
       "\n",
       "    .dataframe tbody tr th {\n",
       "        vertical-align: top;\n",
       "    }\n",
       "\n",
       "    .dataframe thead th {\n",
       "        text-align: right;\n",
       "    }\n",
       "</style>\n",
       "<table border=\"1\" class=\"dataframe\">\n",
       "  <thead>\n",
       "    <tr style=\"text-align: right;\">\n",
       "      <th></th>\n",
       "      <th>LABEL</th>\n",
       "      <th>SCORE</th>\n",
       "    </tr>\n",
       "  </thead>\n",
       "  <tbody>\n",
       "    <tr>\n",
       "      <th>0</th>\n",
       "      <td>NEGATIVE</td>\n",
       "      <td>0.998</td>\n",
       "    </tr>\n",
       "    <tr>\n",
       "      <th>1</th>\n",
       "      <td>NEGATIVE</td>\n",
       "      <td>0.679</td>\n",
       "    </tr>\n",
       "    <tr>\n",
       "      <th>2</th>\n",
       "      <td>NEGATIVE</td>\n",
       "      <td>0.679</td>\n",
       "    </tr>\n",
       "    <tr>\n",
       "      <th>3</th>\n",
       "      <td>NEGATIVE</td>\n",
       "      <td>0.993</td>\n",
       "    </tr>\n",
       "    <tr>\n",
       "      <th>4</th>\n",
       "      <td>POSITIVE</td>\n",
       "      <td>0.999</td>\n",
       "    </tr>\n",
       "    <tr>\n",
       "      <th>...</th>\n",
       "      <td>...</td>\n",
       "      <td>...</td>\n",
       "    </tr>\n",
       "    <tr>\n",
       "      <th>414800</th>\n",
       "      <td>NEGATIVE</td>\n",
       "      <td>0.993</td>\n",
       "    </tr>\n",
       "    <tr>\n",
       "      <th>414801</th>\n",
       "      <td>POSITIVE</td>\n",
       "      <td>0.999</td>\n",
       "    </tr>\n",
       "    <tr>\n",
       "      <th>414802</th>\n",
       "      <td>POSITIVE</td>\n",
       "      <td>0.999</td>\n",
       "    </tr>\n",
       "    <tr>\n",
       "      <th>414803</th>\n",
       "      <td>POSITIVE</td>\n",
       "      <td>0.999</td>\n",
       "    </tr>\n",
       "    <tr>\n",
       "      <th>414804</th>\n",
       "      <td>NEGATIVE</td>\n",
       "      <td>0.999</td>\n",
       "    </tr>\n",
       "  </tbody>\n",
       "</table>\n",
       "<p>414805 rows × 2 columns</p>\n",
       "</div>"
      ],
      "text/plain": [
       "           LABEL  SCORE\n",
       "0       NEGATIVE  0.998\n",
       "1       NEGATIVE  0.679\n",
       "2       NEGATIVE  0.679\n",
       "3       NEGATIVE  0.993\n",
       "4       POSITIVE  0.999\n",
       "...          ...    ...\n",
       "414800  NEGATIVE  0.993\n",
       "414801  POSITIVE  0.999\n",
       "414802  POSITIVE  0.999\n",
       "414803  POSITIVE  0.999\n",
       "414804  NEGATIVE  0.999\n",
       "\n",
       "[414805 rows x 2 columns]"
      ]
     },
     "metadata": {},
     "output_type": "display_data"
    }
   ],
   "source": [
    "text = pd.read_csv('text_score.csv')\n",
    "display(text)"
   ]
  }
 ],
 "metadata": {
  "kernelspec": {
   "display_name": "Python 3",
   "language": "python",
   "name": "python3"
  },
  "language_info": {
   "codemirror_mode": {
    "name": "ipython",
    "version": 3
   },
   "file_extension": ".py",
   "mimetype": "text/x-python",
   "name": "python",
   "nbconvert_exporter": "python",
   "pygments_lexer": "ipython3",
   "version": "3.8.8"
  }
 },
 "nbformat": 4,
 "nbformat_minor": 5
}
